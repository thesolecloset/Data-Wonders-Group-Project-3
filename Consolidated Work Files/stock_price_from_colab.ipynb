{
  "cells": [
    {
      "cell_type": "code",
      "execution_count": null,
      "id": "1e04a771",
      "metadata": {
        "colab": {
          "base_uri": "https://localhost:8080/"
        },
        "id": "1e04a771",
        "outputId": "c9d0aecc-ca68-4570-d899-a9fb5b2df402"
      },
      "outputs": [
        {
          "output_type": "stream",
          "name": "stdout",
          "text": [
            "Looking in indexes: https://pypi.org/simple, https://us-python.pkg.dev/colab-wheels/public/simple/\n",
            "Requirement already satisfied: yfinance in /usr/local/lib/python3.10/dist-packages (0.2.18)\n",
            "Requirement already satisfied: pandas>=1.3.0 in /usr/local/lib/python3.10/dist-packages (from yfinance) (1.5.3)\n",
            "Requirement already satisfied: numpy>=1.16.5 in /usr/local/lib/python3.10/dist-packages (from yfinance) (1.22.4)\n",
            "Requirement already satisfied: requests>=2.26 in /usr/local/lib/python3.10/dist-packages (from yfinance) (2.27.1)\n",
            "Requirement already satisfied: multitasking>=0.0.7 in /usr/local/lib/python3.10/dist-packages (from yfinance) (0.0.11)\n",
            "Requirement already satisfied: lxml>=4.9.1 in /usr/local/lib/python3.10/dist-packages (from yfinance) (4.9.2)\n",
            "Requirement already satisfied: appdirs>=1.4.4 in /usr/local/lib/python3.10/dist-packages (from yfinance) (1.4.4)\n",
            "Requirement already satisfied: pytz>=2022.5 in /usr/local/lib/python3.10/dist-packages (from yfinance) (2022.7.1)\n",
            "Requirement already satisfied: frozendict>=2.3.4 in /usr/local/lib/python3.10/dist-packages (from yfinance) (2.3.7)\n",
            "Requirement already satisfied: cryptography>=3.3.2 in /usr/local/lib/python3.10/dist-packages (from yfinance) (40.0.2)\n",
            "Requirement already satisfied: beautifulsoup4>=4.11.1 in /usr/local/lib/python3.10/dist-packages (from yfinance) (4.11.2)\n",
            "Requirement already satisfied: html5lib>=1.1 in /usr/local/lib/python3.10/dist-packages (from yfinance) (1.1)\n",
            "Requirement already satisfied: soupsieve>1.2 in /usr/local/lib/python3.10/dist-packages (from beautifulsoup4>=4.11.1->yfinance) (2.4.1)\n",
            "Requirement already satisfied: cffi>=1.12 in /usr/local/lib/python3.10/dist-packages (from cryptography>=3.3.2->yfinance) (1.15.1)\n",
            "Requirement already satisfied: six>=1.9 in /usr/local/lib/python3.10/dist-packages (from html5lib>=1.1->yfinance) (1.16.0)\n",
            "Requirement already satisfied: webencodings in /usr/local/lib/python3.10/dist-packages (from html5lib>=1.1->yfinance) (0.5.1)\n",
            "Requirement already satisfied: python-dateutil>=2.8.1 in /usr/local/lib/python3.10/dist-packages (from pandas>=1.3.0->yfinance) (2.8.2)\n",
            "Requirement already satisfied: urllib3<1.27,>=1.21.1 in /usr/local/lib/python3.10/dist-packages (from requests>=2.26->yfinance) (1.26.15)\n",
            "Requirement already satisfied: certifi>=2017.4.17 in /usr/local/lib/python3.10/dist-packages (from requests>=2.26->yfinance) (2022.12.7)\n",
            "Requirement already satisfied: charset-normalizer~=2.0.0 in /usr/local/lib/python3.10/dist-packages (from requests>=2.26->yfinance) (2.0.12)\n",
            "Requirement already satisfied: idna<4,>=2.5 in /usr/local/lib/python3.10/dist-packages (from requests>=2.26->yfinance) (3.4)\n",
            "Requirement already satisfied: pycparser in /usr/local/lib/python3.10/dist-packages (from cffi>=1.12->cryptography>=3.3.2->yfinance) (2.21)\n",
            "Looking in indexes: https://pypi.org/simple, https://us-python.pkg.dev/colab-wheels/public/simple/\n",
            "Requirement already satisfied: quandl in /usr/local/lib/python3.10/dist-packages (3.7.0)\n",
            "Requirement already satisfied: pandas>=0.14 in /usr/local/lib/python3.10/dist-packages (from quandl) (1.5.3)\n",
            "Requirement already satisfied: numpy>=1.8 in /usr/local/lib/python3.10/dist-packages (from quandl) (1.22.4)\n",
            "Requirement already satisfied: requests>=2.7.0 in /usr/local/lib/python3.10/dist-packages (from quandl) (2.27.1)\n",
            "Requirement already satisfied: inflection>=0.3.1 in /usr/local/lib/python3.10/dist-packages (from quandl) (0.5.1)\n",
            "Requirement already satisfied: python-dateutil in /usr/local/lib/python3.10/dist-packages (from quandl) (2.8.2)\n",
            "Requirement already satisfied: six in /usr/local/lib/python3.10/dist-packages (from quandl) (1.16.0)\n",
            "Requirement already satisfied: more-itertools in /usr/local/lib/python3.10/dist-packages (from quandl) (9.1.0)\n",
            "Requirement already satisfied: pytz>=2020.1 in /usr/local/lib/python3.10/dist-packages (from pandas>=0.14->quandl) (2022.7.1)\n",
            "Requirement already satisfied: urllib3<1.27,>=1.21.1 in /usr/local/lib/python3.10/dist-packages (from requests>=2.7.0->quandl) (1.26.15)\n",
            "Requirement already satisfied: certifi>=2017.4.17 in /usr/local/lib/python3.10/dist-packages (from requests>=2.7.0->quandl) (2022.12.7)\n",
            "Requirement already satisfied: charset-normalizer~=2.0.0 in /usr/local/lib/python3.10/dist-packages (from requests>=2.7.0->quandl) (2.0.12)\n",
            "Requirement already satisfied: idna<4,>=2.5 in /usr/local/lib/python3.10/dist-packages (from requests>=2.7.0->quandl) (3.4)\n"
          ]
        }
      ],
      "source": [
        "import pandas as pd\n",
        "import sqlite3\n",
        "! pip install yfinance\n",
        "! pip install quandl\n",
        "import quandl as quandl\n",
        "from datetime import datetime\n",
        "import pprint as pp\n",
        "import yfinance as yf\n",
        "\n",
        "\n",
        "\n",
        "\n"
      ]
    },
    {
      "cell_type": "code",
      "execution_count": null,
      "id": "d2dcc320",
      "metadata": {
        "colab": {
          "base_uri": "https://localhost:8080/"
        },
        "id": "d2dcc320",
        "outputId": "3ff23115-e711-4f0a-fcbc-00b612c39c08"
      },
      "outputs": [
        {
          "output_type": "stream",
          "name": "stdout",
          "text": [
            "        Date ticker      price\n",
            "0 2017-01-03    CCL  46.789989\n",
            "1 2017-01-03    DAL  45.714943\n",
            "2 2017-01-03    HLT  54.502747\n",
            "3 2017-01-03    MAR  78.129959\n",
            "4 2017-01-03    UAL  72.709999\n"
          ]
        }
      ],
      "source": [
        "# backtest inputs\n",
        "bt_inputs = {'tickers': ['HLT', 'UAL', 'CCL', 'DAL', 'MAR'],\n",
        "'start_date': '2017-01-01',\n",
        "'end_date': '2023-05-01'}\n",
        "\n",
        "#start = bt_inputs['start_date']\n",
        "#end = bt_inputs['end_date']\n",
        "# Create a database to store the stock data\n",
        "\n",
        "# create a sql connection\n",
        "con = sqlite3.connect('stocks.db')\n",
        "c = con.cursor()\n",
        "# create price table\n",
        "query1 = \"\"\"CREATE TABLE IF NOT EXISTS prices (\n",
        "Date TEXT NOT NULL,\n",
        "ticker TEXT NOT NULL,\n",
        "price REAL,\n",
        "PRIMARY KEY(Date, ticker)\n",
        ")\"\"\"\n",
        "c.execute(query1.replace('\\n',' '))\n",
        "# create volume table\n",
        "query2 = \"\"\"CREATE TABLE IF NOT EXISTS volume (\n",
        "Date TEXT NOT NULL,\n",
        "ticker TEXT NOT NULL,\n",
        "volume REAL,\n",
        "PRIMARY KEY(Date, ticker)\n",
        ")\"\"\"\n",
        "c.execute(query2.replace('\\n',' '))\n",
        "\n",
        "# inputs\n",
        "select_tickers = bt_inputs['tickers']\n",
        "start_date = bt_inputs['start_date']\n",
        "end_date = bt_inputs['end_date']\n",
        "\n",
        "# construct query\n",
        "query = \"\"\"\n",
        "select * from prices\n",
        "where ticker in ('\"\"\"+ \"','\".join(select_tickers) + \"\"\"')\n",
        "and Date >= '\"\"\"+ start_date + \"\"\"'\n",
        "and Date < '\"\"\" + end_date + \"'\"\n",
        "c.execute(query.replace('\\n',' '))\n",
        "result = pd.DataFrame(c.fetchall(), columns = ['Date', 'ticker', 'price'])\n",
        "# convert to datetime\n",
        "result['Date'] = pd.to_datetime(result['Date'])\n",
        "\n",
        "pp.pprint(result.head())"
      ]
    },
    {
      "cell_type": "code",
      "execution_count": null,
      "id": "3064a6ff",
      "metadata": {
        "colab": {
          "base_uri": "https://localhost:8080/"
        },
        "id": "3064a6ff",
        "outputId": "288565e3-a186-4b99-bd35-c977a5573312"
      },
      "outputs": [
        {
          "output_type": "stream",
          "name": "stdout",
          "text": [
            "[*********************100%***********************]  5 of 5 completed\n",
            "            Adj Close                                                \\\n",
            "                  CCL        DAL         HLT         MAR        UAL   \n",
            "Date                                                                  \n",
            "2017-01-03  46.789993  45.714943   54.502750   78.129967  72.709999   \n",
            "2017-01-04  47.400219  46.842106   56.244102   77.978439  73.019997   \n",
            "2017-01-05  48.198895  45.945923   55.584686   77.448090  70.930000   \n",
            "2017-01-06  48.145046  45.899723   55.730152   77.940567  71.370003   \n",
            "2017-01-09  48.180939  45.908966   55.235588   77.893219  71.279999   \n",
            "...               ...        ...         ...         ...        ...   \n",
            "2023-04-24   9.280000  34.119999  148.295578  173.791214  43.930000   \n",
            "2023-04-25   8.960000  33.110001  146.177780  172.325760  42.490002   \n",
            "2023-04-26   8.760000  32.750000  141.192978  164.609665  42.099998   \n",
            "2023-04-27   8.900000  33.330002  141.592560  164.878845  42.830002   \n",
            "2023-04-28   9.210000  34.310001  143.870193  168.816635  43.799999   \n",
            "\n",
            "                Close                                                ...  \\\n",
            "                  CCL        DAL         HLT         MAR        UAL  ...   \n",
            "Date                                                                 ...   \n",
            "2017-01-03  52.139999  49.480000   56.204281   82.500000  72.709999  ...   \n",
            "2017-01-04  52.820000  50.700001   58.000000   82.339996  73.019997  ...   \n",
            "2017-01-05  53.709999  49.730000   57.320000   81.779999  70.930000  ...   \n",
            "2017-01-06  53.650002  49.680000   57.470001   82.300003  71.370003  ...   \n",
            "2017-01-09  53.689999  49.689999   56.959999   82.250000  71.279999  ...   \n",
            "...               ...        ...         ...         ...        ...  ...   \n",
            "2023-04-24   9.280000  34.119999  148.449997  174.330002  43.930000  ...   \n",
            "2023-04-25   8.960000  33.110001  146.330002  172.860001  42.490002  ...   \n",
            "2023-04-26   8.760000  32.750000  141.339996  165.119995  42.099998  ...   \n",
            "2023-04-27   8.900000  33.330002  141.740005  165.389999  42.830002  ...   \n",
            "2023-04-28   9.210000  34.310001  144.020004  169.339996  43.799999  ...   \n",
            "\n",
            "                 Open                                                  Volume  \\\n",
            "                  CCL        DAL         HLT         MAR        UAL       CCL   \n",
            "Date                                                                            \n",
            "2017-01-03  52.230000  49.369999   56.573639   83.349998  74.019997   3450800   \n",
            "2017-01-04  52.450001  50.090000   57.299999   82.739998  72.449997   3169800   \n",
            "2017-01-05  53.049999  50.410000   58.060001   82.070000  71.989998   4022300   \n",
            "2017-01-06  53.590000  49.790001   57.180000   81.790001  70.980003   3669600   \n",
            "2017-01-09  53.369999  49.459999   57.299999   82.050003  71.059998   2413800   \n",
            "...               ...        ...         ...         ...        ...       ...   \n",
            "2023-04-24   9.320000  34.419998  148.580002  174.779999  44.619999  23084800   \n",
            "2023-04-25   9.270000  33.900002  148.000000  173.800003  43.599998  27625300   \n",
            "2023-04-26   9.030000  33.180000  147.500000  172.949997  42.750000  33804600   \n",
            "2023-04-27   8.910000  33.049999  142.210007  166.000000  42.610001  25196300   \n",
            "2023-04-28   8.840000  33.450001  141.369995  165.149994  42.660000  34107600   \n",
            "\n",
            "                                                 \n",
            "                 DAL      HLT      MAR      UAL  \n",
            "Date                                             \n",
            "2017-01-03   5423200  3328021  3277100  2517600  \n",
            "2017-01-04   7898600  5614500  4016200  2199300  \n",
            "2017-01-05   5806200  5122200  2828200  3579000  \n",
            "2017-01-06   6922700  3359000  2306200  3648100  \n",
            "2017-01-09   5332900  3921800  2643000  1937700  \n",
            "...              ...      ...      ...      ...  \n",
            "2023-04-24   8452700  1387800  1146800  5935400  \n",
            "2023-04-25   9119000  1671500  2226300  6114000  \n",
            "2023-04-26   9237500  4415100  3087400  5614000  \n",
            "2023-04-27   9561500  2937300  2105900  7015400  \n",
            "2023-04-28  11108900  2050000  1645900  5894000  \n",
            "\n",
            "[1591 rows x 30 columns]\n"
          ]
        }
      ],
      "source": [
        "# Download stock data\n",
        "\n",
        "def download(bt_inputs, proxy = None):\n",
        " #    data = quandl.get('NSE/OIL', start_date = start,\n",
        "#                 end_date = end,\n",
        "#                 authtoken = 'XfxsCYJQVpKbCcQRi3d8')\n",
        "\n",
        "      data2 = yf.download(tickers = bt_inputs['tickers'],\n",
        "                        start = bt_inputs['start_date'],\n",
        "                        end = bt_inputs['end_date'],\n",
        "                        interval ='1d',\n",
        "                        prepost = True,\n",
        "                        threads = True,\n",
        "                        proxy = proxy\n",
        "                        )\n",
        "      return (data2)\n",
        "\n",
        "\n",
        "# test method\n",
        "test2 = download(bt_inputs)\n",
        "#pp.pprint(test)\n",
        "pp.pprint(test2)\n",
        "\n",
        "test2.to_csv('data.csv')\n"
      ]
    },
    {
      "cell_type": "code",
      "execution_count": null,
      "id": "ba86c38e",
      "metadata": {
        "id": "ba86c38e",
        "colab": {
          "base_uri": "https://localhost:8080/"
        },
        "outputId": "6030d241-4235-4930-a808-ad8e90d40741"
      },
      "outputs": [
        {
          "output_type": "stream",
          "name": "stdout",
          "text": [
            "           Date ticker       price\n",
            "0    2017-01-03    HLT   54.502750\n",
            "1    2017-01-04    HLT   56.244102\n",
            "2    2017-01-05    HLT   55.584686\n",
            "3    2017-01-06    HLT   55.730152\n",
            "4    2017-01-09    HLT   55.235588\n",
            "...         ...    ...         ...\n",
            "7950 2023-04-24    MAR  173.791214\n",
            "7951 2023-04-25    MAR  172.325760\n",
            "7952 2023-04-26    MAR  164.609665\n",
            "7953 2023-04-27    MAR  164.878845\n",
            "7954 2023-04-28    MAR  168.816635\n",
            "\n",
            "[7955 rows x 3 columns]\n",
            "           Date ticker   volume\n",
            "0    2017-01-03    HLT  3328021\n",
            "1    2017-01-04    HLT  5614500\n",
            "2    2017-01-05    HLT  5122200\n",
            "3    2017-01-06    HLT  3359000\n",
            "4    2017-01-09    HLT  3921800\n",
            "...         ...    ...      ...\n",
            "7950 2023-04-24    MAR  1146800\n",
            "7951 2023-04-25    MAR  2226300\n",
            "7952 2023-04-26    MAR  3087400\n",
            "7953 2023-04-27    MAR  2105900\n",
            "7954 2023-04-28    MAR  1645900\n",
            "\n",
            "[7955 rows x 3 columns]\n"
          ]
        }
      ],
      "source": [
        "# isolate the adjusted prices and volume data.\n",
        "\n",
        "# Adjusted prices are useful as they are adjusted for corporate actions such as dividend payments and stock splits.\n",
        "\n",
        "adj_close = test2['Adj Close']\n",
        "volume = test2['Volume']\n",
        "\n",
        "# convert wide to long\n",
        "adj_close_long = pd.melt(adj_close.reset_index(), id_vars='Date', value_vars=bt_inputs['tickers'], var_name =\"ticker\", value_name=\"price\")\n",
        "volume_long = pd.melt(volume.reset_index(), id_vars='Date', value_vars=bt_inputs['tickers'], var_name = \"ticker\", value_name = \"volume\")\n",
        "pp.pprint (adj_close_long)\n",
        "pp.pprint (volume_long)\n",
        "#Push financial data into database\n",
        "# adj_close_long.to_sql('prices', con, if_exists='append', index=False)\n",
        "# volume_long.to_sql('volume', con, if_exists='append', index=False)\n",
        "\n",
        "#Pull financial data from the database\n",
        "# inputs\n",
        "select_tickers = bt_inputs['tickers']\n",
        "start_date = bt_inputs['start_date']\n",
        "end_date = bt_inputs['end_date']\n",
        "\n",
        "# construct query\n",
        "query = \"\"\"\n",
        "select * from prices\n",
        "where ticker in ('\"\"\"+ \"','\".join(select_tickers) + \"\"\"')\n",
        "and Date >= '\"\"\"+ start_date + \"\"\"'\n",
        "and Date < '\"\"\" + end_date + \"'\"\n",
        "c.execute(query.replace('\\n',' '))\n",
        "result = pd.DataFrame(c.fetchall(), columns = ['Date', 'ticker', 'price'])\n",
        "# convert to datetime\n",
        "result['Date'] = pd.to_datetime(result['Date'])\n",
        "result.to_csv('data_organized.csv')"
      ]
    },
    {
      "cell_type": "code",
      "execution_count": null,
      "id": "4470b0a4",
      "metadata": {
        "id": "4470b0a4"
      },
      "outputs": [],
      "source": []
    },
    {
      "cell_type": "code",
      "execution_count": null,
      "id": "491db809",
      "metadata": {
        "id": "491db809"
      },
      "outputs": [],
      "source": []
    }
  ],
  "metadata": {
    "kernelspec": {
      "display_name": "Python 3 (ipykernel)",
      "language": "python",
      "name": "python3"
    },
    "language_info": {
      "codemirror_mode": {
        "name": "ipython",
        "version": 3
      },
      "file_extension": ".py",
      "mimetype": "text/x-python",
      "name": "python",
      "nbconvert_exporter": "python",
      "pygments_lexer": "ipython3",
      "version": "3.9.16"
    },
    "colab": {
      "provenance": []
    }
  },
  "nbformat": 4,
  "nbformat_minor": 5
}